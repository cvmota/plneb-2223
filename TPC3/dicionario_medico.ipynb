{
 "cells": [
  {
   "cell_type": "markdown",
   "id": "04b94516-9430-4d24-a0b3-bc6b3497fd65",
   "metadata": {},
   "source": [
    "# Exercicios da Aula nº3"
   ]
  },
  {
   "cell_type": "markdown",
   "id": "9f79a277-8e73-4a55-ada8-07e3765ce4ac",
   "metadata": {},
   "source": [
    "## Exercício 1\n",
    "\n",
    "Criar uma função que faz o parser do ficheiro \"dicionario_medico.txt\" e devolve um tuplo com o cabeçalho do ficheiro e uma lista de tuplos com a \"Palavra\" ou designação médica e respectivo \"Significado\"."
   ]
  },
  {
   "cell_type": "code",
   "execution_count": 1,
   "id": "5f115fe7-3e98-4941-821a-8113987addad",
   "metadata": {},
   "outputs": [
    {
     "name": "stdout",
     "output_type": "stream",
     "text": [
      "('abdominoso', 'Que tem abdome volumoso.')\n",
      "('abdução', 'Movimento que afasta um membro do plano mediano que divide o corpo em duas metades semelhantes ou\\nsimétricas; antônimo de adução.')\n",
      "('abducente', 'Relativo à abdução; que realiza a abdução; abdutor.')\n",
      "('abduzir', 'Mover afastando do eixo do corpo.')\n",
      "('abentérico', 'Situado fora do intestino.')\n",
      "('abepitimia', 'Inapetência aos instintos somáticos: fome, sede, apetite sexual e outros.')\n",
      "('aberração', 'Desvio ou irregularidade de aspecto, estrutura, atividade de órgão ou exercício de uma função.')\n",
      "('aberração cromática', 'Fadiga experimentada pelo olho, mesmo pelo olho normal, quando procura fixar atentamente varios objetos de\\ncores diferentes, simultâneamente. Deriva dos diferentes índices de refração das cores do espectro, que formam\\nseus focos em pontos diferentes do ei')\n",
      "('abertura', 'Orifício de passagem de cavidade ou comunicações.')\n",
      "('abetalipoproteinemia', 'Estado de carência de betalipoproteínas no soro.')\n"
     ]
    }
   ],
   "source": [
    "import re\n",
    "\n",
    "def parse_file(filename):\n",
    "    with open(filename, encoding='UTF8') as f:\n",
    "        file_content = f.read()\n",
    "\n",
    "        # parse the file o header\n",
    "        match = re.match(r'(.+)\\n(.+)', file_content)\n",
    "        header = ('', '')\n",
    "        if match:\n",
    "            header = (match.group(1), match.group(2))\n",
    "\n",
    "        # remove the form feed (FF) characters\n",
    "        re.sub(r'\\f', '', file_content)\n",
    "\n",
    "        # parser the dictionary terms\n",
    "        terms_and_definitions = [(k.strip(), v.strip()) for (k, v) in re.findall(r\"\\n\\n(.+)((?:\\n.+)+)\", file_content)]\n",
    "        \n",
    "        return header, terms_and_definitions\n",
    "    \n",
    "header, terms_and_definitions = parse_file('dicionario_medico.txt')\n",
    "# print some terms\n",
    "for k, v in terms_and_definitions[30:40]:\n",
    "    print((k, v))"
   ]
  },
  {
   "cell_type": "markdown",
   "id": "45c82635-db8a-4fb4-a269-f0a53dc51541",
   "metadata": {},
   "source": [
    "## Exercício 2\n",
    "Criar uma função que pega no resultado da função anterior e gera um ficheiro HTML com o cabeçalho e todas as designações com a respectiva descrição."
   ]
  },
  {
   "cell_type": "code",
   "execution_count": 2,
   "id": "719a341d-3052-44ad-bdd8-bb5af22797ce",
   "metadata": {},
   "outputs": [],
   "source": [
    "def text_file_to_html(filename):\n",
    "    header, terms_and_defs = parse_file(filename)\n",
    "\n",
    "    # get the name of the given file to generate the output file (html)\n",
    "    name = re.match(r'^(\\.?[\\w-]+)*\\.\\w+$', filename)\n",
    "\n",
    "    # Create the HTML file\n",
    "    with (open(f\"{name.group(1)}_1.html\", \"w\", encoding='UTF8')) as f:\n",
    "        f.write(f'''<html>\n",
    "        <head>\n",
    "            <p><b>{header[0]}</b></p>\n",
    "            <p><b>{header[1]}</b></p>\n",
    "            <meta charset='utf-8'/></head>\n",
    "        <body>      \n",
    "        ''')\n",
    "        for k, v in terms_and_defs:\n",
    "            f.write(f'<b>{k}</b>')\n",
    "            f.write(f'<p>{v}</p>')\n",
    "            f.write(f'<hr>')\n",
    "        f.write('</body>')\n",
    "\n",
    "\n",
    "text_file_to_html('dicionario_medico.txt')"
   ]
  },
  {
   "cell_type": "markdown",
   "id": "1161a456-8f42-48cb-a651-826ca128d6d5",
   "metadata": {},
   "source": [
    "# Trabalho de casa"
   ]
  },
  {
   "cell_type": "markdown",
   "id": "38c3fc03-9794-45dd-9278-760e6c84e471",
   "metadata": {},
   "source": [
    "**1.** Resolver o problema do \\f com o \\n entre a designação e a designação e a descrição."
   ]
  },
  {
   "cell_type": "code",
   "execution_count": 3,
   "id": "8e6b9275-3f66-493d-ae8a-ba52ba619ee3",
   "metadata": {},
   "outputs": [
    {
     "name": "stdout",
     "output_type": "stream",
     "text": [
      "('abdominoso', 'Que tem abdome volumoso.')\n",
      "('abdução', 'Movimento que afasta um membro do plano mediano que divide o corpo em duas metades semelhantes ou\\nsimétricas; antônimo de adução.')\n",
      "('abducente', 'Relativo à abdução; que realiza a abdução; abdutor.')\n",
      "('abduzir', 'Mover afastando do eixo do corpo.')\n",
      "('abentérico', 'Situado fora do intestino.')\n",
      "('abepitimia', 'Inapetência aos instintos somáticos: fome, sede, apetite sexual e outros.')\n",
      "('aberração', 'Desvio ou irregularidade de aspecto, estrutura, atividade de órgão ou exercício de uma função.')\n",
      "('aberração cromática', 'Fadiga experimentada pelo olho, mesmo pelo olho normal, quando procura fixar atentamente varios objetos de\\ncores diferentes, simultâneamente. Deriva dos diferentes índices de refração das cores do espectro, que formam\\nseus focos em pontos diferentes do ei')\n",
      "('aberrante', 'Que se desvia do padrão ou caminhos normais.')\n",
      "('abertura', 'Orifício de passagem de cavidade ou comunicações.')\n"
     ]
    }
   ],
   "source": [
    "import re\n",
    "\n",
    "def parse_file(filename):\n",
    "    with open(filename, encoding='UTF8') as f:\n",
    "        file_content = f.read()\n",
    "\n",
    "        # parse the file o header\n",
    "        match = re.match(r'(.+)\\n(.+)', file_content)\n",
    "        header = ('', '')\n",
    "        if match:\n",
    "            header = (match.group(1), match.group(2))\n",
    "            \n",
    "        # ---- difference from previous function ------\n",
    "        # first remove all (\\n\\f) between designation and its definition. After that, remove all \\f\n",
    "        file_content = re.sub(r\"(\\n\\n.+\\n)\\n\\f\", r'\\1', file_content).replace('\\f', '')\n",
    "        # ------------------------------------------\n",
    "        \n",
    "        # parser the dictionary terms\n",
    "        terms_and_definitions = [(k.strip(), v.strip()) for (k, v) in re.findall(r\"\\n\\n(.+)((?:\\n.+)+)\", file_content)]\n",
    "\n",
    "        return header, terms_and_definitions\n",
    "    \n",
    "header, terms_and_definitions = parse_file('dicionario_medico.txt')\n",
    "# print some terms\n",
    "for k, v in terms_and_definitions[30:40]:\n",
    "    print((k, v))\n",
    "    \n",
    "text_file_to_html('dicionario_medico.txt')"
   ]
  },
  {
   "cell_type": "markdown",
   "id": "57712362-2411-4df0-98f2-31a2740d6c2a",
   "metadata": {},
   "source": [
    "Após esta alteração, a desegnação de \"aberrante\" já é capaturada"
   ]
  },
  {
   "cell_type": "markdown",
   "id": "1f98e440-831e-48e6-8e5a-a3e088e9b62c",
   "metadata": {},
   "source": [
    "**2.** Refazer a função parse_file com separação das designações e descrição por etiquetas.\n",
    "\n",
    "Por exemplo:\n",
    "- @ para idenfiticar os termos\n",
    "- \\# para a designação"
   ]
  },
  {
   "cell_type": "code",
   "execution_count": 4,
   "id": "d56b640e-3843-48e9-b9a1-0341e7b669d9",
   "metadata": {},
   "outputs": [
    {
     "name": "stdout",
     "output_type": "stream",
     "text": [
      "('abdominoso', 'Que tem abdome volumoso.')\n",
      "('abdução', 'Movimento que afasta um membro do plano mediano que divide o corpo em duas metades semelhantes ou\\nsimétricas; antônimo de adução.')\n",
      "('abducente', 'Relativo à abdução; que realiza a abdução; abdutor.')\n",
      "('abduzir', 'Mover afastando do eixo do corpo.')\n",
      "('abentérico', 'Situado fora do intestino.')\n",
      "('abepitimia', 'Inapetência aos instintos somáticos: fome, sede, apetite sexual e outros.')\n",
      "('aberração', 'Desvio ou irregularidade de aspecto, estrutura, atividade de órgão ou exercício de uma função.')\n",
      "('aberração cromática', 'Fadiga experimentada pelo olho, mesmo pelo olho normal, quando procura fixar atentamente varios objetos de\\ncores diferentes, simultâneamente. Deriva dos diferentes índices de refração das cores do espectro, que formam\\nseus focos em pontos diferentes do ei')\n",
      "('aberrante', 'Que se desvia do padrão ou caminhos normais.')\n",
      "('abertura', 'Orifício de passagem de cavidade ou comunicações.')\n"
     ]
    }
   ],
   "source": [
    "def parse_file_2(filename):\n",
    "    with open(filename, encoding='UTF8') as f:\n",
    "        file_content = f.read()\n",
    "\n",
    "        # parse the file o header\n",
    "        match = re.match(r'(.+)\\n(.+)', file_content)\n",
    "        header = ('', '')\n",
    "        if match:\n",
    "            header = (match.group(1), match.group(2))\n",
    "\n",
    "        # first remove all (\\n\\f) between designation and its definition. After that, remove all \\f\n",
    "        file_content = re.sub(r\"(\\n\\n.+\\n)\\n\\f\", r'\\1', file_content).replace('\\f', '')\n",
    "\n",
    "        # tag the designations and the descriptions\n",
    "        file_content = re.sub(r\"\\n\\n(.+)\", r'\\n\\n@\\1@', file_content)\n",
    "        file_content = re.sub(r'(@\\n)([^@§]+)(\\n\\n@)', r'\\1#\\2#\\3', file_content)\n",
    "\n",
    "        # parser the dictionary terms\n",
    "        terms_and_definitions = [(k.strip(), v.strip()) for (k, v) in\n",
    "                                 re.findall(r\"@([^@]+)@\\n#([^#]+)#\", file_content)]\n",
    "\n",
    "        return header, terms_and_definitions\n",
    "    \n",
    "header, terms_and_definitions = parse_file('dicionario_medico.txt')\n",
    "# print some terms\n",
    "for k, v in terms_and_definitions[30:40]:\n",
    "    print((k, v))"
   ]
  },
  {
   "cell_type": "markdown",
   "id": "a7b86e4b-f205-4718-900a-14fda00ac30b",
   "metadata": {},
   "source": [
    "**3.** Geração do ficheiro HTML em formato de uma tabela com utilização de CSS."
   ]
  },
  {
   "cell_type": "code",
   "execution_count": 5,
   "id": "9c796842-d9e1-4dde-ae91-ed8b6157f98c",
   "metadata": {},
   "outputs": [],
   "source": [
    "def text_file_to_html_2(filename):\n",
    "    header, terms_and_defs = parse_file_2(filename)\n",
    "\n",
    "    # get the name of the given file to generate the output file (html)\n",
    "    name = re.match(r'^(\\.?[\\w-]+)*\\.\\w+$', filename)\n",
    "\n",
    "    # Create the HTML file\n",
    "    with (open(f\"{name.group(1)}_2.html\", \"w\", encoding='UTF8')) as f:\n",
    "        f.write(f'''<html>\n",
    "           <head>\n",
    "               <meta charset='utf-8'/>\n",
    "               <style>\n",
    "                   body {{\n",
    "                       margin: 3%;\n",
    "                       background-color: #f5f5f5;\n",
    "                       font-family: Arial, sans-serif;\n",
    "                       color: #333;\n",
    "                   }}\n",
    "                   table {{\n",
    "                       margin: 0 auto;\n",
    "                       border-collapse: collapse;\n",
    "                       width: 100%;\n",
    "                   }}\n",
    "                   th {{\n",
    "                       background-color: #9f9f9f;\n",
    "                       color: #fff;\n",
    "                   }}\n",
    "                   td, th {{\n",
    "                       border: 1px solid #dddddd;\n",
    "                       text-align: left;\n",
    "                       padding: 8px;\n",
    "                   }}\n",
    "                   tr:nth-child(even) {{\n",
    "                       background-color: #f1f1f1;\n",
    "                   }}\n",
    "                   h1 {{\n",
    "                       background-image: url(\"book.jpeg\");\n",
    "                       background-repeat: no-repeat;\n",
    "                       background-position: left center;\n",
    "                       padding-left: 65px;\n",
    "                       font-size: 35px;\n",
    "                       color: #555555;\n",
    "                       margin-bottom: 8px;\n",
    "                   }}\n",
    "               </style>\n",
    "           </head>\n",
    "           <body>\n",
    "                <h1>Dicionário Médico</h1>\n",
    "                <table>\n",
    "                    <tr><th>{header[0]}</th><th>{header[1]}</th></tr>      \n",
    "        ''')\n",
    "        for k, v in terms_and_defs:\n",
    "            f.write(f'<tr>')\n",
    "            f.write(f'<td>{k}</td>')\n",
    "            f.write(f'<td>{v}</td>')\n",
    "            f.write(f'</tr>')\n",
    "        f.write('<table></body>')\n",
    "\n",
    "\n",
    "text_file_to_html_2('dicionario_medico.txt')"
   ]
  },
  {
   "cell_type": "code",
   "execution_count": null,
   "id": "cb69817f-9e42-422c-942e-708f01877cc8",
   "metadata": {},
   "outputs": [],
   "source": []
  }
 ],
 "metadata": {
  "kernelspec": {
   "display_name": "Python 3 (ipykernel)",
   "language": "python",
   "name": "python3"
  },
  "language_info": {
   "codemirror_mode": {
    "name": "ipython",
    "version": 3
   },
   "file_extension": ".py",
   "mimetype": "text/x-python",
   "name": "python",
   "nbconvert_exporter": "python",
   "pygments_lexer": "ipython3",
   "version": "3.10.6"
  }
 },
 "nbformat": 4,
 "nbformat_minor": 5
}
