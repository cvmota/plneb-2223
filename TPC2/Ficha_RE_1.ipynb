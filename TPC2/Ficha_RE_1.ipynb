{
 "cells": [
  {
   "cell_type": "markdown",
   "metadata": {
    "id": "oVaAea-wCM6H"
   },
   "source": [
    "# Ficha de Expressões Regulares 1"
   ]
  },
  {
   "cell_type": "markdown",
   "metadata": {
    "id": "gk5jnHXt9t4y"
   },
   "source": [
    "### Conceitos básicos de expressões regulares\n",
    "\n",
    "- `a` - corresponde a uma ocorrência do caracter `a`.\n",
    "- `a?` - corresponde a 0 ou 1 ocorrências do caracter `a`.\n",
    "- `a+` - corresponde a 1 ou mais ocorrências do caracter `a`.\n",
    "- `a*` - corresponde a 0 ou mais ocorrências do caracter `a`.\n",
    "- `[abc]` - corresponde a uma ocorrência de um dos caracteres `a`, `b` ou `c`.\n",
    "- `[a-z]` - corresponde a uma ocorrência de um caracter entre `a` e `z`.\n",
    "- `^` - corresponde ao início da string.\n",
    "- `$` - corresponde ao fim da string.\n",
    "- `[^abc]` - corresponde a uma ocorrência de qualquer caracter que não seja `a`, `b` ou `c`.\n",
    "\n",
    "Podemos usar o operador de união para unir várias expressões regulares. Por exemplo: `a|bbb|[^a-z]`, que corresponde a uma das várias (neste caso, 3) expressões regulares que fazem parte da união.\n",
    "\n",
    "Podemos simplificar expressões regulares como `bbb` para `b{3}`, ou seja, 3 ocorrências consecutivas do caracter `b`, neste caso. Outras opções incluem `b{3,}` para 3 ou mais ocorrências ou `b{3,6}` para entre 3 a 6 ocorrências, por exemplo.\n",
    "\n",
    "Para formar grupos de expressões regulares, usamos parênteses. Por exemplo: `((abc)*|[0-9]+)?`. Os operadores após um grupo atuam sobre o grupo.\n",
    "\n",
    "Podemos ainda aplicar modificadores a grupos. Por exemplo, `(?i:teste)` corresponde à expressão \"teste\", escrita com qualquer combinação de maiúsculas e minúsculas (e.g., \"TESTE\", \"tEsTe\", \"TEste\", etc.)."
   ]
  },
  {
   "cell_type": "markdown",
   "metadata": {
    "id": "yDRt0yOgJ-TW"
   },
   "source": [
    "## Exercício 1"
   ]
  },
  {
   "cell_type": "markdown",
   "metadata": {
    "id": "gI05knhniDCr"
   },
   "source": [
    "### Alínea 1.1\n",
    "\n",
    "Dada uma linha de texto, define um programa que determina se a palavra \"hello\" aparece no início da linha.\n",
    "\n",
    "Conceitos importantes para este exercício:\n",
    "\n",
    "- `re.match(pattern, string[, flags])` - analisa a `string` e tenta encontrar uma correspondência para a expressão regular `pattern` a partir do início da string. Devolve `None` se não encontrar nenhuma correspondência.\n",
    "- `r\"\"` - string correspondente a uma expressão regular."
   ]
  },
  {
   "cell_type": "code",
   "execution_count": 1,
   "metadata": {
    "id": "ufl-7TGph9WH"
   },
   "outputs": [
    {
     "name": "stdout",
     "output_type": "stream",
     "text": [
      "hello world\n"
     ]
    }
   ],
   "source": [
    "import re\n",
    "\n",
    "line1 = \"hello world\"\n",
    "line2 = \"goodbye world\"\n",
    "line3 = \"hi, hello there\"\n",
    "\n",
    "lines = [line1, line2, line3]\n",
    "for line in lines:\n",
    "    if re.match(r'hello', line):\n",
    "        print(line)"
   ]
  },
  {
   "cell_type": "markdown",
   "metadata": {
    "id": "gzgOACqiJ7VN"
   },
   "source": [
    "### Alínea 1.2\n",
    "\n",
    "Dada uma linha de texto, define um programa que determina se a palavra \"hello\" aparece em qualquer posição da linha.\n",
    "\n",
    "Conceitos importantes para este exercício:\n",
    "\n",
    "- `re.search(pattern, string[, flags])` - analisa a `string` e tenta encontrar uma correspondência para a expressão regular `pattern` em qualquer posição da string. Devolve `None` se não encontrar nenhuma correspondência."
   ]
  },
  {
   "cell_type": "code",
   "execution_count": 2,
   "metadata": {
    "id": "TM-qMl-yJ7VS"
   },
   "outputs": [
    {
     "name": "stdout",
     "output_type": "stream",
     "text": [
      "hello world\n",
      "hi, hello there\n"
     ]
    }
   ],
   "source": [
    "line1 = \"hello world\"\n",
    "line2 = \"goodbye world\"\n",
    "line3 = \"hi, hello there\"\n",
    "\n",
    "lines = [line1, line2, line3]\n",
    "for line in lines:\n",
    "    if re.search(r'hello', line):\n",
    "        print(line)"
   ]
  },
  {
   "cell_type": "markdown",
   "metadata": {
    "id": "6ZE7klswOy90"
   },
   "source": [
    "### Alínea 1.3\n",
    "\n",
    "Dada uma linha de texto, define um programa que pesquisa por todas as ocorrências da palavra \"hello\" dentro da linha, admitindo que a palavra seja escrita com maiúsculas ou minúsculas.\n",
    "\n",
    "Conceitos importantes para este exercício:\n",
    "\n",
    "- `re.findall(pattern, string[, flags])` - encontra todas as correspondências que não se sobreponham da expressão regular `pattern` na `string`. Devolve uma lista."
   ]
  },
  {
   "cell_type": "code",
   "execution_count": 3,
   "metadata": {
    "id": "aHB_l7g5OzNY"
   },
   "outputs": [
    {
     "data": {
      "text/plain": [
       "['Hello', 'hello', 'hello', 'HELLO']"
      ]
     },
     "execution_count": 3,
     "metadata": {},
     "output_type": "execute_result"
    }
   ],
   "source": [
    "line = \"Hello there! Uh, hi, hello, it's me... Heyyy, hello? HELLO!\"\n",
    "\n",
    "re.findall(r'hello', line, flags=re.IGNORECASE)"
   ]
  },
  {
   "cell_type": "markdown",
   "metadata": {
    "id": "TSwUj26OPRmP"
   },
   "source": [
    "### Alínea 1.4\n",
    "\n",
    "Dada uma linha de texto, define um programa que pesquisa por todas as ocorrências da palavra \"hello\" dentro da linha, substituindo cada uma por \"\\*YEP\\*\".\n",
    "\n",
    "Conceitos importantes para este exercício:\n",
    "\n",
    "- `re.sub(pattern, replacement, string, count = 0, flags = 0)` - substitui todas as correspondências da expressão regular `pattern` na `string` por `replacement`. `replacement` pode ser uma string, uma expressão regular ou uma função que recebe uma correspondência e devolve uma string. O parâmetro `count` determina o limite de substituições (por defeito é 0, ou seja, não há limite)."
   ]
  },
  {
   "cell_type": "code",
   "execution_count": 4,
   "metadata": {
    "id": "SXLK2rhMPf11"
   },
   "outputs": [
    {
     "data": {
      "text/plain": [
       "\"*YEP* there! Uh, hi, *YEP*, it's me... Heyyy, *YEP*? *YEP*!\""
      ]
     },
     "execution_count": 4,
     "metadata": {},
     "output_type": "execute_result"
    }
   ],
   "source": [
    "line = \"Hello there! Uh, hi, hello, it's me... Heyyy, hello? HELLO!\"\n",
    "\n",
    "re.sub(r'hello', \"*YEP*\", line, flags=re.IGNORECASE)"
   ]
  },
  {
   "cell_type": "markdown",
   "metadata": {
    "id": "MrgsEzJCPgbO"
   },
   "source": [
    "### Alínea 1.5\n",
    "\n",
    "Dada uma linha de texto, define um programa que pesquisa por todas as ocorrências do caracter vírgula, separando cada parte da linha por esse caracter.\n",
    "\n",
    "Conceitos importantes para este exercício:\n",
    "\n",
    "- `re.split(pattern, string, maxsplit = 0, flags = 0)` - divide a `string` com base nas correspondências da expressão regular `pattern`. O parâmetro `maxsplit` pode ser usado para definir um limite de divisões (por defeito é 0, que corresponde a divisões infinitas)."
   ]
  },
  {
   "cell_type": "code",
   "execution_count": 5,
   "metadata": {
    "id": "vrwiid6XPgvg"
   },
   "outputs": [
    {
     "data": {
      "text/plain": [
       "['bananas',\n",
       " ' laranjas',\n",
       " ' maçãs',\n",
       " ' uvas',\n",
       " ' melancias',\n",
       " ' cerejas',\n",
       " ' kiwis',\n",
       " ' etc.']"
      ]
     },
     "execution_count": 5,
     "metadata": {},
     "output_type": "execute_result"
    }
   ],
   "source": [
    "line = \"bananas, laranjas, maçãs, uvas, melancias, cerejas, kiwis, etc.\"\n",
    "\n",
    "re.split(',', line)"
   ]
  },
  {
   "cell_type": "markdown",
   "metadata": {
    "id": "6QP0erT4iSzE"
   },
   "source": [
    "## Exercício 2\n",
    "\n",
    "Define a função `palavra_magica` que recebe uma frase e determina se a mesma termina com a expressão \"por favor\", seguida de um sinal válido de pontuação."
   ]
  },
  {
   "cell_type": "code",
   "execution_count": 6,
   "metadata": {
    "id": "MhCC49z7jU7n"
   },
   "outputs": [
    {
     "name": "stdout",
     "output_type": "stream",
     "text": [
      "Posso ir à casa de banho, por favor?\n",
      "None\n"
     ]
    }
   ],
   "source": [
    "import re\n",
    "\n",
    "def palavra_magica(frase):\n",
    "    if re.search('por favor[\\.\\?!]$', frase):\n",
    "        return frase\n",
    "\n",
    "print(palavra_magica(\"Posso ir à casa de banho, por favor?\"))\n",
    "print(palavra_magica(\"Preciso de um favor.\"))"
   ]
  },
  {
   "cell_type": "markdown",
   "metadata": {
    "id": "L71wvPCujpBD"
   },
   "source": [
    "## Exercício 3\n",
    "\n",
    "Define a função `narcissismo` que calcula quantas vezes a palavra \"eu\" aparece numa string."
   ]
  },
  {
   "cell_type": "code",
   "execution_count": 7,
   "metadata": {
    "id": "0HxFCow5nOj8"
   },
   "outputs": [
    {
     "name": "stdout",
     "output_type": "stream",
     "text": [
      "['Eu', 'eu', 'eu', 'eu', 'eu', 'EU']\n",
      "6\n"
     ]
    }
   ],
   "source": [
    "def narcissismo(linha):\n",
    "    eu = re.findall('eu', linha, flags=re.IGNORECASE)\n",
    "    print(eu)\n",
    "    return len(eu)\n",
    "\n",
    "print(narcissismo(\"Eu não sei se eu quero continuar a ser eu. Por outro lado, eu ser eu é uma parte importante de quem EU sou.\"))"
   ]
  },
  {
   "cell_type": "markdown",
   "metadata": {
    "id": "EKETfRaOolO4"
   },
   "source": [
    "## Exercício 4\n",
    "\n",
    "Define a função `troca_de_curso` que substitui todas as ocorrências de \"LEI\" numa linha pelo nome do curso dado à função."
   ]
  },
  {
   "cell_type": "code",
   "execution_count": 8,
   "metadata": {
    "id": "8ZVPMxfZpRrx"
   },
   "outputs": [
    {
     "name": "stdout",
     "output_type": "stream",
     "text": [
      "Eng. Biomédica é o melhor curso! Adoro Eng. Biomédica! Gostar de Eng. Biomédica devia ser uma lei.\n"
     ]
    }
   ],
   "source": [
    "def troca_de_curso(linha, novo_curso):\n",
    "    return re.sub('LEI', novo_curso, linha)\n",
    "\n",
    "print(troca_de_curso(\"LEI é o melhor curso! Adoro LEI! Gostar de LEI devia ser uma lei.\", 'Eng. Biomédica'))"
   ]
  },
  {
   "cell_type": "markdown",
   "metadata": {
    "id": "GZKMkTKcp886"
   },
   "source": [
    "## Exercício 5\n",
    "\n",
    "Define a função `soma_string` que recebe uma string com vários números separados por uma vírgula (e.g., \"1,2,3,4,5\") e devolve a soma destes números."
   ]
  },
  {
   "cell_type": "code",
   "execution_count": 9,
   "metadata": {
    "id": "ExqmZwj_rzuR"
   },
   "outputs": [
    {
     "name": "stdout",
     "output_type": "stream",
     "text": [
      "6\n"
     ]
    }
   ],
   "source": [
    "def soma_string(linha):\n",
    "    total = 0\n",
    "    for n in re.split(',', linha):\n",
    "        total += int(n)\n",
    "    return total\n",
    "\n",
    "print(soma_string(\"4,-6,2,3,8,-3,0,2,-5,1\"))"
   ]
  },
  {
   "cell_type": "markdown",
   "metadata": {
    "id": "n49iafoNzw-3"
   },
   "source": [
    "## Exercício 6\n",
    "\n",
    "Define a função `pronomes` que encontra e devolve todos os pronomes pessoais presentes numa frase, i.e., \"eu\", \"tu\", \"ele\", \"ela\", etc., com atenção para letras maiúsculas ou minúsculas."
   ]
  },
  {
   "cell_type": "code",
   "execution_count": 10,
   "metadata": {
    "id": "RnuCrz2H0DWq"
   },
   "outputs": [
    {
     "data": {
      "text/plain": [
       "['Eu', 'ela', 'tu', 'ele']"
      ]
     },
     "execution_count": 10,
     "metadata": {},
     "output_type": "execute_result"
    }
   ],
   "source": [
    "def pronomes(texto):\n",
    "    return re.findall(r'(eu|tu|el[ea])', texto, flags=re.IGNORECASE)\n",
    "\n",
    "pronomes(\"Eu disse a ela que tu precisavas falar com ele sobre o projeto.\")"
   ]
  },
  {
   "cell_type": "markdown",
   "metadata": {
    "id": "BHMk88OQ0XFY"
   },
   "source": [
    "## Exercício 7\n",
    "\n",
    "Define a função `variavel_valida` que recebe uma string e determina se a mesma é um nome válido para uma variável, ou seja, se começa por uma letra e apenas contém letras, números ou *underscores*."
   ]
  },
  {
   "cell_type": "code",
   "execution_count": 17,
   "metadata": {
    "id": "YTQW91Ws1WLx"
   },
   "outputs": [
    {
     "name": "stdout",
     "output_type": "stream",
     "text": [
      "False\n",
      "False\n",
      "False\n",
      "True\n",
      "True\n"
     ]
    }
   ],
   "source": [
    "def variavel_valida(var_name):\n",
    "    if re.match('[a-z]\\w*', var_name):\n",
    "        return True\n",
    "    return False\n",
    "\n",
    "print(variavel_valida(\"_var\"))\n",
    "print(variavel_valida(\"1var\"))\n",
    "print(variavel_valida(\"Var\"))\n",
    "print(variavel_valida(\"var_name\"))\n",
    "print(variavel_valida(\"varName\"))"
   ]
  },
  {
   "cell_type": "markdown",
   "metadata": {
    "id": "ZRWbgkMM5qzx"
   },
   "source": [
    "## Exercício 8\n",
    "\n",
    "Define a função `inteiros` que devolve todos os números inteiros presentes numa string. Um número inteiro pode conter um ou mais dígitos e pode ser positivo ou negativo."
   ]
  },
  {
   "cell_type": "code",
   "execution_count": 34,
   "metadata": {
    "id": "jsmiEi6gA7vh"
   },
   "outputs": [
    {
     "name": "stdout",
     "output_type": "stream",
     "text": [
      "['-2', '-1', '3', '5', '7']\n"
     ]
    }
   ],
   "source": [
    "def inteiros(string):\n",
    "    return re.findall(r'[+-]?(?<!\\.)\\b\\d+\\b(?!\\.\\d)', string)\n",
    "\n",
    "print(inteiros(\"A temperatura minima nos próximos 5.0 dias é de -2, -1, 3, 5 e 7.\"))"
   ]
  },
  {
   "cell_type": "markdown",
   "metadata": {
    "id": "QhpGhtBT7aD3"
   },
   "source": [
    "## Exercício 9\n",
    "\n",
    "Define a função `underscores` que substitui todos os espaços numa string por *underscores*. Se aparecerem vários espaços seguidos, devem ser substituídos por apenas um *underscore*."
   ]
  },
  {
   "cell_type": "code",
   "execution_count": 13,
   "metadata": {
    "id": "1YTIkZT-6Ase"
   },
   "outputs": [
    {
     "name": "stdout",
     "output_type": "stream",
     "text": [
      "Eng._Biomédica_é_o_melhor_curso!_Adoro_Eng._Biomédica!_Gostar_de_Eng._Biomédica_devia_ser_uma_lei.\n"
     ]
    }
   ],
   "source": [
    "def underscores(string):\n",
    "    return re.sub('\\s+', '_', string)\n",
    "\n",
    "print(underscores(\"Eng. Biomédica é o melhor curso! Adoro   Eng. Biomédica! Gostar     de Eng. Biomédica devia ser uma lei.\"))"
   ]
  },
  {
   "cell_type": "markdown",
   "metadata": {
    "id": "xcUrRlIy8uof"
   },
   "source": [
    "## Exercício 10\n",
    "\n",
    "Define a função `codigos_postais` que recebe uma lista de códigos postais válidos e divide-os com base no hífen. A função deve devolver uma lista de pares."
   ]
  },
  {
   "cell_type": "code",
   "execution_count": 14,
   "metadata": {
    "id": "6xj01Oy09ncO"
   },
   "outputs": [
    {
     "name": "stdout",
     "output_type": "stream",
     "text": [
      "[('4700', '000'), ('1234', '567'), ('8541', '543'), ('4123', '974'), ('9481', '025')]\n"
     ]
    }
   ],
   "source": [
    "lista = [\n",
    "    \"4700-000\",\n",
    "    \"1234-567\",\n",
    "    \"8541-543\",\n",
    "    \"4123-974\",\n",
    "    \"9481-025\"\n",
    "]\n",
    "\n",
    "def codigos_postais(codigos):\n",
    "    lista_pares=[]\n",
    "    for codigo in codigos:\n",
    "        lista_pares.append(tuple(re.split('-', codigo)))\n",
    "    return lista_pares\n",
    "\n",
    "print(codigos_postais(lista))"
   ]
  },
  {
   "cell_type": "code",
   "execution_count": null,
   "metadata": {},
   "outputs": [],
   "source": []
  }
 ],
 "metadata": {
  "colab": {
   "provenance": [],
   "toc_visible": true
  },
  "kernelspec": {
   "display_name": "Python 3 (ipykernel)",
   "language": "python",
   "name": "python3"
  },
  "language_info": {
   "codemirror_mode": {
    "name": "ipython",
    "version": 3
   },
   "file_extension": ".py",
   "mimetype": "text/x-python",
   "name": "python",
   "nbconvert_exporter": "python",
   "pygments_lexer": "ipython3",
   "version": "3.10.6"
  }
 },
 "nbformat": 4,
 "nbformat_minor": 4
}
