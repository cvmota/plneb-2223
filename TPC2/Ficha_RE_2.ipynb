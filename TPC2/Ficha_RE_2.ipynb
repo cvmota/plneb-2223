{
 "cells": [
  {
   "cell_type": "markdown",
   "metadata": {
    "id": "oVaAea-wCM6H"
   },
   "source": [
    "# Ficha de Expressões Regulares 2"
   ]
  },
  {
   "cell_type": "markdown",
   "metadata": {
    "id": "gk5jnHXt9t4y"
   },
   "source": [
    "### Conceitos mais avançados de expressões regulares\n",
    "\n",
    "- `.` - corresponde a uma ocorrência de qualquer caracter (exceto '\\n', geralmente).\n",
    "- `\\w` - corresponde a um caracter alfanumérico (a-z, A-Z, 0-9 ou _).\n",
    "- `\\W` - corresponde a um caracter **não** alfanumérico.\n",
    "- `\\s` - corresponde a um caracter de *whitespace* (' ', '\\t', ou '\\n', por exemplo).\n",
    "- `\\S` - corresponde a um caracter que não seja *whitespace*.\n",
    "- `\\d` - corresponde a um dígito.\n",
    "- `\\D` - corresponde a um caracter que não seja um dígito.\n",
    "- `\\btot\\w+` - corresponde a uma palavra **começada** por \"tot\" (o token `\\b` representa uma *word boundary*, ou seja, o limite entre um caracter alfanumérico e outro não alfanumérico). Por outras palavras, captura a palavra \"totalidade\" mas não a palavra \"batota\". O token `\\b` também pode ser usado no fim de palavras.\n",
    "- `a(?=b)` - corresponde a um caracter `a` que tenha à sua frente um caracter `b`, mas não captura o caracter `b`. (*positive lookahead*)\n",
    "- `a(?!b)` - corresponde a um caracter `a` que **não** tenha à sua frente um caracter `b`, mas não captura o caracter seguinte. (*negative lookahead*)\n",
    "- `a(?<=b)` - corresponde a um caracter `a` que tenha atrás de si um caracter `b`, mas não captura o caracter `b`. (*positive lookbehind*)\n",
    "- `a(?<!b)` - corresponde a um caracter `a` que **não** tenha atrás de si um caracter `b`, mas não captura o caracter anterior. (*negative lookbehind*)\n"
   ]
  },
  {
   "cell_type": "markdown",
   "metadata": {
    "id": "lTaHmSRMMmvI"
   },
   "source": [
    "Podemos usar *grupos de captura* em expressões regulares para isolar segmentos da string capturada. Usamos parênteses para definir grupos de captura."
   ]
  },
  {
   "cell_type": "code",
   "execution_count": 1,
   "metadata": {
    "colab": {
     "base_uri": "https://localhost:8080/"
    },
    "id": "1Aig805EMion",
    "outputId": "9178ca8e-7ac0-4633-9358-78bf73b2ea1e"
   },
   "outputs": [
    {
     "name": "stdout",
     "output_type": "stream",
     "text": [
      "('13', '49')\n",
      "13:49\n",
      "13\n"
     ]
    }
   ],
   "source": [
    "import re\n",
    "m = re.search(r'(2[0-3]|[0-1][0-9]):([0-5][0-9])', \"13:49\")\n",
    "\n",
    "print(m.groups()) # conjunto dos grupos de captura\n",
    "print(m.group(0)) # toda a string capturada\n",
    "print(m.group(1)) # o primeiro grupo de captura"
   ]
  },
  {
   "cell_type": "markdown",
   "metadata": {
    "id": "WxIEoiMdNPkq"
   },
   "source": [
    "O módulo re possui ainda *flags* que podemos usar nas suas funções. As mais úteis são:\n",
    "\n",
    "- `re.I` ou `re.IGNORECASE`: faz uma correspondência *case insensitive*.\n",
    "- `re.M` ou `re.MULTILINE`: os tokens de âncora `^` e `$` passam a corresponder ao início/fim de cada linha, em vez do início/fim de uma string.\n",
    "- `re.S` ou `re.DOTALL`: o token `.` passa a corresponder também a um caracter `\\n`.\n",
    "\n",
    "Podemos usar estas flags da seguinte forma: `re.search(r'trans.*mar', \"TRANSF\\nORMAR\", re.I | re.S)`"
   ]
  },
  {
   "cell_type": "markdown",
   "metadata": {
    "id": "0z3asvbtZijn"
   },
   "source": [
    "## Exercício 1 - Conversão de datas\n",
    "\n",
    "Define a função `iso_8601` que converte as datas presentes numa string no formato DD/MM/AAAA para o formato ISO 8601 - AAAA-MM-DD, usando expressões regulares e grupos de captura."
   ]
  },
  {
   "cell_type": "code",
   "execution_count": 2,
   "metadata": {
    "id": "VZXeGvw7aLIG"
   },
   "outputs": [
    {
     "name": "stdout",
     "output_type": "stream",
     "text": [
      "A 2022-01-03, Pedro viajou para a praia com a sua família.\n",
      "Eles ficaram hospedados num hotel e aproveitaram o sol e o mar durante toda a semana.\n",
      "Mais tarde, no dia 2022-01-12, Pedro voltou para casa e começou a trabalhar num novo projeto.\n",
      "Ele passou muitas horas no escritório, mas finalmente terminou o projeto a 2022-01-15.\n"
     ]
    }
   ],
   "source": [
    "import re\n",
    "\n",
    "def iso_8601(texto):\n",
    "    return re.sub(r'(\\d{2})/(\\d{2})/(\\d{4})', r'\\3-\\2-\\1', texto)\n",
    "    \n",
    "texto = \"\"\"A 03/01/2022, Pedro viajou para a praia com a sua família.\n",
    "Eles ficaram hospedados num hotel e aproveitaram o sol e o mar durante toda a semana.\n",
    "Mais tarde, no dia 12/01/2022, Pedro voltou para casa e começou a trabalhar num novo projeto.\n",
    "Ele passou muitas horas no escritório, mas finalmente terminou o projeto a 15/01/2022.\"\"\"\n",
    "\n",
    "print(iso_8601(texto))"
   ]
  },
  {
   "cell_type": "markdown",
   "metadata": {
    "id": "WscyvBdMY8ic"
   },
   "source": [
    "## Exercício 2 - Validação de ficheiros\n",
    "\n",
    "Escreve um programa que lê uma lista de nomes de ficheiros e determina se cada nome é válido ou não. O nome de um ficheiro deve conter apenas caracteres alfanuméricos, hífens, underscores ou pontos, seguido de uma extensão (e.g., \".txt\", \".png\", etc.)."
   ]
  },
  {
   "cell_type": "code",
   "execution_count": 3,
   "metadata": {
    "id": "uUAouM4MZkF6"
   },
   "outputs": [
    {
     "name": "stdout",
     "output_type": "stream",
     "text": [
      "document.txt -> valid\n",
      "file name.docx -> invalid\n",
      "image_001.jpg -> valid\n",
      "script.sh.txt -> valid\n",
      "test_file.txt -> valid\n",
      "file_name. -> invalid\n",
      "my_resume.docx -> valid\n",
      ".hidden-file.txt -> valid\n",
      "important-file.text file -> invalid\n",
      "file%name.jpg -> invalid\n",
      "None\n"
     ]
    }
   ],
   "source": [
    "import re\n",
    "\n",
    "def validate_filenames(file_names):\n",
    "    for file_name in file_names:\n",
    "        if re.search(r'^(\\.?[\\w-]+)*\\.\\w+$', file_name):\n",
    "            print(file_name, '-> valid')\n",
    "        else:\n",
    "            print(file_name, '-> invalid')\n",
    "    \n",
    "    \n",
    "file_names = [\n",
    "  \"document.txt\", # válido\n",
    "  \"file name.docx\", # inválido\n",
    "  \"image_001.jpg\", # válido\n",
    "  \"script.sh.txt\", # válido\n",
    "  \"test_file.txt\", # válido\n",
    "  \"file_name.\", # inválido\n",
    "  \"my_resume.docx\", # válido\n",
    "  \".hidden-file.txt\", # válido\n",
    "  \"important-file.text file\", # inválido\n",
    "  \"file%name.jpg\" # inválido\n",
    "]\n",
    "\n",
    "print(validate_filenames(file_names))"
   ]
  },
  {
   "cell_type": "markdown",
   "metadata": {
    "id": "keqnY2BFZkvR"
   },
   "source": [
    "### Alínea 2.1\n",
    "\n",
    "Modifica o programa anterior para colocar os nomes de ficheiro válidos num dicionário, no qual as chaves deverão ser as extensões dos mesmos. Por outras palavras, agrupa os ficheiros por extensão."
   ]
  },
  {
   "cell_type": "code",
   "execution_count": 4,
   "metadata": {
    "id": "zdJMjdJsZ6FZ"
   },
   "outputs": [
    {
     "name": "stdout",
     "output_type": "stream",
     "text": [
      "{'txt': ['document.txt', 'script.sh.txt', 'test_file.txt', '.hidden-file.txt'], 'jpg': ['image_001.jpg'], 'docx': ['my_resume.docx']}\n"
     ]
    }
   ],
   "source": [
    "def validate_filenames(file_names):\n",
    "    valid_files={}\n",
    "    for file_name in file_names:\n",
    "        m = re.search(r'^(\\.?[\\w-]+)*\\.(\\w+)$', file_name)\n",
    "        if m:\n",
    "            extension = m.group(2)\n",
    "            files = valid_files.get(extension, [])\n",
    "            files.append(file_name)\n",
    "            valid_files[extension] = files\n",
    "    return valid_files\n",
    "\n",
    "file_names = [\n",
    "  \"document.txt\", # válido\n",
    "  \"file name.docx\", # inválido\n",
    "  \"image_001.jpg\", # válido\n",
    "  \"script.sh.txt\", # válido\n",
    "  \"test_file.txt\", # válido\n",
    "  \"file_name.\", # inválido\n",
    "  \"my_resume.docx\", # válido\n",
    "  \".hidden-file.txt\", # válido\n",
    "  \"important-file.text file\", # inválido\n",
    "  \"file%name.jpg\" # inválido\n",
    "]\n",
    "\n",
    "print(validate_filenames(file_names))"
   ]
  },
  {
   "cell_type": "markdown",
   "metadata": {
    "id": "a40c7yfabZOZ"
   },
   "source": [
    "## Exercício 3 - Conversão de nomes\n",
    "\n",
    "Escreve um filtro de texto que converte cada nome completo de uma pessoa encontrada num texto fonte, no formato `PrimeiroNome SegundoNome [...] UltimoNome` para o formato `UltimoNome, PrimeiroNome`. Por exemplo, \"Rui Vieira de Castro\" passa a \"Castro, Rui\". Atenção aos conectores \"de\", \"dos\", etc."
   ]
  },
  {
   "cell_type": "code",
   "execution_count": 5,
   "metadata": {
    "id": "aYONUP3BcAdf"
   },
   "outputs": [
    {
     "name": "stdout",
     "output_type": "stream",
     "text": [
      "Este texto foi feito por \"Santos, Sofia\", com \n",
      "base no texto original de \"Moura, Pedro\", com a ajuda\n",
      "dos professores \"Henriques, Pedro\" e \"Almeida, José\".\n",
      "Apesar de partilharem o mesmo apelido, a Sofia não é da mesma família do famoso\n",
      "autor \"Santos, José\".\n"
     ]
    }
   ],
   "source": [
    "def name_convert(text):\n",
    "    return re.sub(r'([A-ZZÁÍÓÚ][a-záéíóúçãõ]{2,})(:?\\s(:?(?:da|das|de|do|dos)?\\s)?([A-ZÁÍÓÚ][a-záéíóúçãõ]{1,}))+', r'\"\\4, \\1\"', text)\n",
    "texto = \"\"\"Este texto foi feito por Sofia Guilherme Rodrigues dos Santos, com \n",
    "base no texto original de Pedro Rafael Paiva Moura, com a ajuda\n",
    "dos professores Pedro Rangel Henriques e José João Antunes Guimarães Dias De Almeida.\n",
    "Apesar de partilharem o mesmo apelido, a Sofia não é da mesma família do famoso\n",
    "autor José Rodrigues dos Santos.\"\"\"\n",
    "\n",
    "print(name_convert(texto))"
   ]
  },
  {
   "cell_type": "markdown",
   "metadata": {
    "id": "7mMTNkFUm7lV"
   },
   "source": [
    "## Exercício 4 - Códigos postais 2\n",
    "\n",
    "Define uma função `codigos_postais` que recebe uma lista de códigos postais e divide-os com base no hífen. Ao contrário do exercício da ficha anterior, esta função pode receber códigos postais inválidos. A função deve devolver uma lista de pares e apenas processar cada linha uma vez."
   ]
  },
  {
   "cell_type": "code",
   "execution_count": 6,
   "metadata": {
    "id": "rvxXocYpnqlX"
   },
   "outputs": [
    {
     "name": "stdout",
     "output_type": "stream",
     "text": [
      "[('4700', '000'), ('1234', '567'), ('9481', '025')]\n"
     ]
    }
   ],
   "source": [
    "def codigos_postais(codigos):\n",
    "    lista_pares=[]\n",
    "    for codigo in codigos:\n",
    "        m = re.search(r'(\\d{4})-(\\d{3})', codigo)\n",
    "        if m:\n",
    "            lista_pares.append(tuple([m.group(1), m.group(2)]))\n",
    "    return lista_pares\n",
    "\n",
    "lista = [\n",
    "    \"4700-000\", # válido\n",
    "    \"9876543\", # inválido\n",
    "    \"1234-567\", # válido\n",
    "    \"8x41-5a3\", # inválido\n",
    "    \"84234-12\", # inválido\n",
    "    \"4583--321\", # inválido\n",
    "    \"9481-025\" # válido\n",
    "]\n",
    "\n",
    "print(codigos_postais(lista))"
   ]
  },
  {
   "cell_type": "markdown",
   "metadata": {
    "id": "m2rtSDSccn33"
   },
   "source": [
    "## Exercício 5 - Expansão de abreviaturas\n",
    "\n",
    "Escreve um filtro de texto que expanda as abreviaturas que encontrar no texto fonte no formato \"/abrev\"."
   ]
  },
  {
   "cell_type": "code",
   "execution_count": 7,
   "metadata": {
    "id": "Hm60iNFV52oX"
   },
   "outputs": [
    {
     "name": "stdout",
     "output_type": "stream",
     "text": [
      "A Unidade Curricular de Processamento de Linguagens é muito fixe! É uma Unidade Curricular que acrescenta muito ao curso de Licenciatura em Engenharia Informática da Universidade do Minho.\n"
     ]
    }
   ],
   "source": [
    "def expand_abrev(text, abrevs):\n",
    "    for abrev, descr in abrevs.items():\n",
    "        text = re.sub(r'/abrev{'+ abrev +'}', descr, text)\n",
    "    return text\n",
    "    \n",
    "abreviaturas = {\n",
    "    \"UM\": \"Universidade do Minho\",\n",
    "    \"LEI\": \"Licenciatura em Engenharia Informática\",\n",
    "    \"UC\": \"Unidade Curricular\",\n",
    "    \"PL\": \"Processamento de Linguagens\"\n",
    "}\n",
    "\n",
    "texto = \"A /abrev{UC} de /abrev{PL} é muito fixe! É uma /abrev{UC} que acrescenta muito ao curso de /abrev{LEI} da /abrev{UM}.\"\n",
    "\n",
    "print(expand_abrev(texto, abreviaturas))"
   ]
  },
  {
   "cell_type": "markdown",
   "metadata": {
    "id": "oEiMpi4FDkqm"
   },
   "source": [
    "## Exercício 6 - Matrículas\n",
    "\n",
    "Define uma função `matricula_valida` que recebe uma string de texto e determina se esta contém uma matrícula válida. Uma matrícula segue o formato AA-BB-CC, no qual dois dos três conjuntos devem ser compostos por números e o terceiro por letras maiúsculas (por exemplo, 01-AB-23), ou o novo formato no qual dois dos conjuntos são compostos por letras maiúsculas e o terceiro por números (por exemplo, 89-WX-YZ). Os conjuntos podem ser separados por um hífen ou um espaço.\n",
    "\n",
    "Extra: Garante que o mesmo separador é usado para separar os três conjuntos."
   ]
  },
  {
   "cell_type": "code",
   "execution_count": 8,
   "metadata": {
    "id": "CPR0gi10E5Dj"
   },
   "outputs": [
    {
     "name": "stdout",
     "output_type": "stream",
     "text": [
      "AA-AA-AA invalid\n",
      "LR-RB-32 valid\n",
      "1234LX invalid\n",
      "PL 22 23 valid\n",
      "ZZ-99-ZZ valid\n",
      "54-tb-34 invalid\n",
      "12 34 56 invalid\n",
      "42-HA BQ invalid\n"
     ]
    }
   ],
   "source": [
    "def matricula_valida(texto):\n",
    "    old_format = re.search(r'(?:(?:[A-Z]{2}([- ])\\d{2}\\1\\d{2})|\\d{2}([- ])[A-Z]{2}\\2\\d{2}|\\d{2}([- ])\\d{2}\\3[A-Z]{2})', texto)\n",
    "    new_format = re.search(r'(?:[A-Z]{2}([- ])[A-Z]{2}\\1\\d{2}|[A-Z]{2}([- ])\\d{2}\\2[A-Z]{2}|\\d{2}([- ])[A-Z]{2}\\3[A-Z]{2})', texto)\n",
    "    if old_format or new_format:\n",
    "        return True\n",
    "    return False\n",
    " \n",
    "matriculas = [\n",
    "    \"AA-AA-AA\", # inválida\n",
    "    \"LR-RB-32\", # válida\n",
    "    \"1234LX\", # inválida\n",
    "    \"PL 22 23\", # válida\n",
    "    \"ZZ-99-ZZ\", # válida\n",
    "    \"54-tb-34\", # inválida\n",
    "    \"12 34 56\", # inválida\n",
    "    \"42-HA BQ\" # válida, mas inválida com o requisito extra\n",
    "]\n",
    "\n",
    "for m in matriculas:\n",
    "    if matricula_valida(m):\n",
    "        print(m, 'valid')\n",
    "    else:\n",
    "        print(m, 'invalid')"
   ]
  },
  {
   "cell_type": "markdown",
   "metadata": {
    "id": "-_NVZEbp8xM-"
   },
   "source": [
    "## Exercício 7 - *Mad Libs*\n",
    "\n",
    "O jogo *Mad Libs*, bastante comum em países como os Estados Unidos, consiste em pegar num texto com espaços para algumas palavras e preencher esses espaços de acordo com o tipo de palavra que é pedida.\n",
    "\n",
    "Escreve um programa que lê um texto no formato *Mad Libs* e pede ao utilizador para fornecer palavras que completem corretamente o texto."
   ]
  },
  {
   "cell_type": "code",
   "execution_count": 9,
   "metadata": {
    "id": "VGX0mrL29Vgv"
   },
   "outputs": [
    {
     "name": "stdin",
     "output_type": "stream",
     "text": [
      "Qual o texto a substituir por: [ESTAÇÃO DO ANO] Primavera\n",
      "Qual o texto a substituir por: [NOME DE PESSOA] João\n",
      "Qual o texto a substituir por: [EXPRESSÃO DE PARENTESCO MASCULINA] pai\n",
      "Qual o texto a substituir por: [NOME DE LOCAL FEMININO] casa\n",
      "Qual o texto a substituir por: [OBJETO MASCULINO] carro\n",
      "Qual o texto a substituir por: [ADJETIVO MASCULINO] estranho\n",
      "Qual o texto a substituir por: [VERBO INFINITIVO] vender\n",
      "Qual o texto a substituir por: [NOME DE PESSOA FAMOSA] José Mourinho\n",
      "Qual o texto a substituir por: [NOME DE LOCAL MASCULINO] parque\n",
      "Qual o texto a substituir por: [NOME PLURAL MASCULINO] vizinhos\n"
     ]
    },
    {
     "name": "stdout",
     "output_type": "stream",
     "text": [
      "Num lindo dia de Primavera, João foi passear com o seu pai. \n",
      "Quando chegaram à casa, encontraram um carro muito estranho.\n",
      "Ficaram muito confusos, pois não conseguiam identificar a função daquilo.\n",
      "Seria para vender? Tentaram perguntar a José Mourinho, que também não sabia.\n",
      "Desanimados, pegaram no objeto e deixaram-no no parque mais próximo. \n",
      "Talvez os vizinhos de lá conseguissem encontrar alguma utilidade para aquilo.\n"
     ]
    }
   ],
   "source": [
    "def mad_libs(text):\n",
    "    m = re.findall('(\\[[A-Z ÇÃÕÁÉÍÓÚ]+\\])', text)\n",
    "    for exp in m:\n",
    "        inp = input('Qual o texto a substituir por: ' + exp)\n",
    "        text = text.replace(exp, inp)\n",
    "    return text\n",
    "\n",
    "texto = \"\"\"Num lindo dia de [ESTAÇÃO DO ANO], [NOME DE PESSOA] foi passear com o seu [EXPRESSÃO DE PARENTESCO MASCULINA]. \n",
    "Quando chegaram à [NOME DE LOCAL FEMININO], encontraram um [OBJETO MASCULINO] muito [ADJETIVO MASCULINO].\n",
    "Ficaram muito confusos, pois não conseguiam identificar a função daquilo.\n",
    "Seria para [VERBO INFINITIVO]? Tentaram perguntar a [NOME DE PESSOA FAMOSA], que também não sabia.\n",
    "Desanimados, pegaram no objeto e deixaram-no no [NOME DE LOCAL MASCULINO] mais próximo. \n",
    "Talvez os [NOME PLURAL MASCULINO] de lá conseguissem encontrar alguma utilidade para aquilo.\"\"\"\n",
    "\n",
    "print(mad_libs(texto))"
   ]
  },
  {
   "cell_type": "markdown",
   "metadata": {
    "id": "z8HMWeua6Zc2"
   },
   "source": [
    "## Exercício 8 - Remoção de repetidos\n",
    "\n",
    "Escreve um filtro de texto que sempre que encontrar no texto fonte uma palavra repetida elimina as repetições, ou seja, substitui a lista de palavras por 1 só palavra."
   ]
  },
  {
   "cell_type": "code",
   "execution_count": 10,
   "metadata": {
    "id": "YZxTwl0C6v2b"
   },
   "outputs": [
    {
     "name": "stdout",
     "output_type": "stream",
     "text": [
      "Este é um texto com palavras repetidas e as palavras repetidas são chatas e repetitivas.\n"
     ]
    }
   ],
   "source": [
    "def clear_repeated_words(texto):\n",
    "    return re.sub(r'\\b(\\w+)((\\s)+\\1\\b)+', r'\\1', texto)\n",
    "    \n",
    "texto = \"Este é um texto com palavras repetidas repetidas repetidas repetidas e as as palavras repetidas são chatas e repetitivas.\"\n",
    "\n",
    "print(clear_repeated_words(texto))"
   ]
  },
  {
   "cell_type": "code",
   "execution_count": null,
   "metadata": {},
   "outputs": [],
   "source": []
  }
 ],
 "metadata": {
  "colab": {
   "provenance": [],
   "toc_visible": true
  },
  "kernelspec": {
   "display_name": "Python 3 (ipykernel)",
   "language": "python",
   "name": "python3"
  },
  "language_info": {
   "codemirror_mode": {
    "name": "ipython",
    "version": 3
   },
   "file_extension": ".py",
   "mimetype": "text/x-python",
   "name": "python",
   "nbconvert_exporter": "python",
   "pygments_lexer": "ipython3",
   "version": "3.10.6"
  }
 },
 "nbformat": 4,
 "nbformat_minor": 4
}
